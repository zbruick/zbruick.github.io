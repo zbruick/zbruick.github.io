{
 "cells": [
  {
   "cell_type": "code",
   "execution_count": null,
   "metadata": {},
   "outputs": [],
   "source": [
    "%matplotlib inline"
   ]
  },
  {
   "cell_type": "markdown",
   "metadata": {
    "cell_marker": "\"\"\""
   },
   "source": [
    "700-hPa Relative Humidity\n",
    "=========================\n",
    "\n",
    "Classic 700-hPa Map that displays Relative Humidity\n",
    "\n",
    "By: Kevin Goebbert\n",
    "\n",
    "This example uses GFS output to displays common 700-hPa parameters\n",
    "including relative humidity.\n"
   ]
  },
  {
   "cell_type": "code",
   "execution_count": null,
   "metadata": {},
   "outputs": [],
   "source": []
  },
  {
   "cell_type": "markdown",
   "metadata": {
    "cell_marker": "######################################################################"
   },
   "source": [
    "Import needed modules\n"
   ]
  },
  {
   "cell_type": "code",
   "execution_count": null,
   "metadata": {},
   "outputs": [],
   "source": [
    "import cartopy.crs as ccrs\n",
    "import cartopy.feature as cfeature\n",
    "import matplotlib.pyplot as plt\n",
    "import metpy.calc as mpcalc\n",
    "from metpy.units import units\n",
    "import numpy as np\n",
    "import xarray as xr\n"
   ]
  },
  {
   "cell_type": "markdown",
   "metadata": {
    "cell_marker": "######################################################################"
   },
   "source": [
    "Access data using Xarray\n"
   ]
  },
  {
   "cell_type": "code",
   "execution_count": null,
   "metadata": {},
   "outputs": [],
   "source": [
    "ds = xr.open_dataset('https://thredds.ucar.edu/thredds/dodsC/casestudies/'\n",
    "                     'python-gallery/GFS_20101026_1200.nc').metpy.parse_cf()\n",
    "\n",
    "# Fix units on Relative Humidity\n",
    "ds.Relative_humidity_isobaric.attrs['units'] = 'percent'"
   ]
  },
  {
   "cell_type": "markdown",
   "metadata": {
    "cell_marker": "######################################################################"
   },
   "source": [
    "Data Parsing\n",
    "------------\n",
    "\n",
    "Parse out desired data and attach units.\n",
    "\n",
    "Smooth using MetPy’s ``smooth_gaussian`` function to minimize noise in\n",
    "output.\n"
   ]
  },
  {
   "cell_type": "code",
   "execution_count": null,
   "metadata": {},
   "outputs": [],
   "source": [
    "# Set subset slice for the geographic extent of data to limit download\n",
    "lon_slice = slice(200, 350)\n",
    "lat_slice = slice(85, 10)\n",
    "\n",
    "# Grab lat/lon values (GFS will be 1D)\n",
    "lats = ds.lat.sel(lat=lat_slice).values\n",
    "lons = ds.lon.sel(lon=lon_slice).values\n",
    "\n",
    "# Select specific level data\n",
    "level = 700 * units.hPa\n",
    "hght_700 = mpcalc.smooth_gaussian(ds['Geopotential_height_isobaric'].metpy.sel(\n",
    "    vertical=level, lon=lon_slice, lat=lat_slice).squeeze(), 2)\n",
    "tmpk_700 = mpcalc.smooth_gaussian(ds['Temperature_isobaric'].metpy.sel(\n",
    "    vertical=level, lon=lon_slice, lat=lat_slice).squeeze(), 2)\n",
    "uwnd_700 = mpcalc.smooth_gaussian(ds['u-component_of_wind_isobaric'].metpy.sel(\n",
    "    vertical=level, lon=lon_slice, lat=lat_slice).squeeze(), 2)\n",
    "vwnd_700 = mpcalc.smooth_gaussian(ds['v-component_of_wind_isobaric'].metpy.sel(\n",
    "    vertical=level, lon=lon_slice, lat=lat_slice).squeeze(), 2)\n",
    "relh_700 = mpcalc.smooth_gaussian(ds['Relative_humidity_isobaric'].metpy.sel(\n",
    "    vertical=level, lon=lon_slice, lat=lat_slice).squeeze(), 2)\n",
    "\n",
    "# Convert temperature to Celsius for plotting purposes\n",
    "tmpc_700 = tmpk_700.to('degC')\n",
    "\n",
    "# Get times in nice datetime format\n",
    "vtime = ds.time.data.squeeze().astype('datetime64[ms]').astype('O')\n"
   ]
  },
  {
   "cell_type": "markdown",
   "metadata": {
    "cell_marker": "######################################################################"
   },
   "source": [
    "Plot Data\n",
    "---------\n",
    "\n",
    "Use Cartopy to plot 700-hPa data on a Lambert Conformal Map and\n",
    "colorfill the relative humidity\n"
   ]
  },
  {
   "cell_type": "code",
   "execution_count": null,
   "metadata": {},
   "outputs": [],
   "source": [
    "# Set graphic projection\n",
    "mapcrs = ccrs.LambertConformal(central_longitude=-100, central_latitude=35,\n",
    "                               standard_parallels=(30, 60))\n",
    "\n",
    "# Set data projection\n",
    "datacrs = ccrs.PlateCarree()\n",
    "\n",
    "# Begin figure and set CONUS areal extent\n",
    "fig = plt.figure(1, figsize=(14, 12))\n",
    "ax = plt.subplot(111, projection=mapcrs)\n",
    "ax.set_extent([-130, -72, 20, 55], ccrs.PlateCarree())\n",
    "\n",
    "# Add coastlines and state boundaries\n",
    "ax.add_feature(cfeature.COASTLINE.with_scale('50m'))\n",
    "ax.add_feature(cfeature.STATES.with_scale('50m'))\n",
    "\n",
    "# Plot Colorfill of 700-hPa relative humidity -\n",
    "# normalize color to not have too dark of green at the top end\n",
    "clevs_700_relh = np.arange(70, 101, 2)\n",
    "cf = ax.contourf(lons, lats, relh_700, clevs_700_relh, cmap=plt.cm.Greens,\n",
    "                 norm=plt.Normalize(70, 110), transform=datacrs)\n",
    "cb = plt.colorbar(cf, orientation='horizontal', pad=0, aspect=50)\n",
    "cb.set_label('Rel. Humidity (%)')\n",
    "\n",
    "# Plot contours of 700-hPa temperature in Celsius in red, dashed lines\n",
    "clevs_700_tmpc = np.arange(-40, 41, 2)\n",
    "cs1 = ax.contour(lons, lats, tmpc_700, clevs_700_tmpc, colors='tab:red',\n",
    "                 linestyles='dashed', transform=datacrs)\n",
    "ax.clabel(cs1, fmt='%d')\n",
    "\n",
    "# Plot contours of 700-hPa geopotential height in black, solid lines\n",
    "clevs_700_hght = np.arange(0, 8000, 30)\n",
    "cs2 = ax.contour(lons, lats, hght_700, clevs_700_hght, colors='black', transform=datacrs)\n",
    "ax.clabel(cs2, fmt='%d', fontsize='large')\n",
    "\n",
    "# Plot 700-hPa wind barbs in knots\n",
    "ax.barbs(lons, lats, uwnd_700.to('kt').m, vwnd_700.to('kt').m, pivot='middle',\n",
    "         color='black', regrid_shape=20, transform=datacrs)\n",
    "\n",
    "# Add some useful titles\n",
    "plt.title('700-hPa GFS Geopotential Heights (m), Temperature (C),'\n",
    "          ' and Wind Barbs (kt)', loc='left')\n",
    "plt.title('Valid Time: {}'.format(vtime), loc='right')\n",
    "\n",
    "plt.show()"
   ]
  }
 ],
 "metadata": {
  "jupytext": {
   "cell_metadata_filter": "-all",
   "main_language": "python",
   "notebook_metadata_filter": "-all"
  }
 },
 "nbformat": 4,
 "nbformat_minor": 2
}
