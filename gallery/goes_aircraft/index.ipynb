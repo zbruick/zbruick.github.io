{
 "cells": [
  {
   "cell_type": "code",
   "execution_count": null,
   "metadata": {},
   "outputs": [],
   "source": [
    "\"\"\"\n",
    "=====================\n",
    "GOES Aircraft Example\n",
    "=====================\n",
    "\n",
    "This example plots the most recent GOES-16 data with an overlay of the current\n",
    "position of the NCAR C130 research aircraft. It also demonstrates projecting\n",
    "vectors into map coordinates and matplotlib marker manipulation.\n",
    "\"\"\""
   ]
  },
  {
   "cell_type": "code",
   "execution_count": null,
   "metadata": {},
   "outputs": [],
   "source": [
    "from datetime import datetime\n",
    "import json\n",
    "import urllib.request"
   ]
  },
  {
   "cell_type": "code",
   "execution_count": null,
   "metadata": {},
   "outputs": [],
   "source": [
    "import cartopy.crs as ccrs\n",
    "import cartopy.feature as cfeature\n",
    "from matplotlib import patheffects\n",
    "import matplotlib.pyplot as plt\n",
    "import metpy  # noqa: F401\n",
    "import metpy.calc as mpcalc\n",
    "from metpy.plots.ctables import registry\n",
    "from metpy.units import units\n",
    "import numpy as np\n",
    "from siphon.catalog import TDSCatalog\n",
    "import xarray as xr\n",
    "from xarray.backends import NetCDF4DataStore"
   ]
  },
  {
   "cell_type": "code",
   "execution_count": null,
   "metadata": {},
   "outputs": [],
   "source": [
    "def get_plane_data():\n",
    "    \"\"\"Get JSON data from NCAR aircraft.\"\"\"\n",
    "    endpoint_url = 'https://www.eol.ucar.edu/flight_data/C130/position.json'\n",
    "    with urllib.request.urlopen(endpoint_url) as f:\n",
    "        jstring = f.read()\n",
    "    payload = json.loads(jstring.decode('utf-8'))\n",
    "    data = {'latitude': float(payload['lat']),\n",
    "            'longitude': float(payload['lon']),\n",
    "            'altitude': float(payload['alt']),\n",
    "            'heading': float(payload['head']),\n",
    "            'time': payload['timestamp']}\n",
    "    return data"
   ]
  },
  {
   "cell_type": "code",
   "execution_count": null,
   "metadata": {},
   "outputs": [],
   "source": [
    "def get_goes_image(date=datetime.utcnow(), channel=8, region='CONUS'):\n",
    "    \"\"\"Return dataset of GOES-16 data.\"\"\"\n",
    "    cat = TDSCatalog('https://thredds.ucar.edu/thredds/catalog/satellite/goes/east/products/'\n",
    "                     'CloudAndMoistureImagery/{}/Channel{:02d}/{:%Y%m%d}/'\n",
    "                     'catalog.xml'.format(region, channel, date))\n",
    "\n",
    "    ds = cat.datasets[-1]  # Get most recent dataset\n",
    "    ds = ds.remote_access(service='OPENDAP')\n",
    "    ds = NetCDF4DataStore(ds)\n",
    "    ds = xr.open_dataset(ds)\n",
    "    return ds"
   ]
  },
  {
   "cell_type": "code",
   "execution_count": null,
   "metadata": {},
   "outputs": [],
   "source": [
    "ds = get_goes_image()\n",
    "data = get_plane_data()"
   ]
  },
  {
   "cell_type": "code",
   "execution_count": null,
   "metadata": {},
   "outputs": [],
   "source": [
    "# Parse out the projection data from the satellite file\n",
    "dat = ds.metpy.parse_cf('Sectorized_CMI')\n",
    "proj = dat.metpy.cartopy_crs"
   ]
  },
  {
   "cell_type": "code",
   "execution_count": null,
   "metadata": {},
   "outputs": [],
   "source": [
    "# Pull out what we need from the GOES netCDF file\n",
    "x = dat['x']\n",
    "y = dat['y']"
   ]
  },
  {
   "cell_type": "code",
   "execution_count": null,
   "metadata": {},
   "outputs": [],
   "source": [
    "# Make the plot\n",
    "fig = plt.figure(figsize=(1.375 * 40, 40))\n",
    "ax = fig.add_subplot(1, 1, 1, projection=proj)\n",
    "plt.subplots_adjust(left=0, bottom=0, right=1, top=1, wspace=0, hspace=0)"
   ]
  },
  {
   "cell_type": "code",
   "execution_count": null,
   "metadata": {},
   "outputs": [],
   "source": [
    "wv_norm, wv_cmap = registry.get_with_range('WVCIMSS_r', 195, 265)"
   ]
  },
  {
   "cell_type": "code",
   "execution_count": null,
   "metadata": {},
   "outputs": [],
   "source": [
    "im = ax.imshow(dat, extent=(x.min(), x.max(), y.min(), y.max()),\n",
    "               origin='upper')"
   ]
  },
  {
   "cell_type": "code",
   "execution_count": null,
   "metadata": {},
   "outputs": [],
   "source": [
    "im.set_cmap(wv_cmap)\n",
    "im.set_norm(wv_norm)"
   ]
  },
  {
   "cell_type": "code",
   "execution_count": null,
   "metadata": {},
   "outputs": [],
   "source": [
    "ax.add_feature(cfeature.BORDERS, linewidth=8, edgecolor='black')\n",
    "ax.add_feature(cfeature.STATES.with_scale('50m'), linestyle='-',\n",
    "               edgecolor='black', linewidth=4)"
   ]
  },
  {
   "cell_type": "code",
   "execution_count": null,
   "metadata": {},
   "outputs": [],
   "source": [
    "timestamp = datetime.strptime(ds.start_date_time, '%Y%j%H%M%S')"
   ]
  },
  {
   "cell_type": "code",
   "execution_count": null,
   "metadata": {},
   "outputs": [],
   "source": [
    "text_time = ax.text(0.01, 0.01, timestamp.strftime('%d %B %Y %H%MZ'),\n",
    "                    horizontalalignment='left', transform=ax.transAxes,\n",
    "                    color='white', fontsize=100, weight='bold')"
   ]
  },
  {
   "cell_type": "code",
   "execution_count": null,
   "metadata": {},
   "outputs": [],
   "source": [
    "outline_effect = [patheffects.withStroke(linewidth=15, foreground='black')]\n",
    "text_time.set_path_effects(outline_effect)"
   ]
  },
  {
   "cell_type": "code",
   "execution_count": null,
   "metadata": {},
   "outputs": [],
   "source": [
    "ax.set_extent([-124.5, -105, 38.5, 50])"
   ]
  },
  {
   "cell_type": "code",
   "execution_count": null,
   "metadata": {},
   "outputs": [],
   "source": [
    "# Transform plane heading to a map direction and plot a rotated marker\n",
    "u, v = mpcalc.wind_components(1 * units('m/s'),\n",
    "                              data['heading'] * units('degrees'))\n",
    "u, v = proj.transform_vectors(ccrs.PlateCarree(), np.array([data['longitude']]),\n",
    "                              np.array([data['latitude']]), np.array([u.m]),\n",
    "                              np.array([v.m]))\n",
    "map_direction = -mpcalc.wind_direction(u, v).to('degrees')\n",
    "map_direction = map_direction[0].m"
   ]
  },
  {
   "cell_type": "code",
   "execution_count": null,
   "metadata": {},
   "outputs": [],
   "source": [
    "ax.scatter(data['longitude'], data['latitude'],\n",
    "           transform=ccrs.PlateCarree(),\n",
    "           marker=(3, 0, map_direction),\n",
    "           color='red',\n",
    "           s=4000)"
   ]
  },
  {
   "cell_type": "code",
   "execution_count": null,
   "metadata": {},
   "outputs": [],
   "source": [
    "ax.text(data['longitude'], data['latitude'] - 0.3,\n",
    "        'Altitude: {}\\nHeading: {}\\nTime:{}'.format(data['altitude'],\n",
    "                                                    data['heading'],\n",
    "                                                    data['time']),\n",
    "        transform=ccrs.PlateCarree(), fontsize=40,\n",
    "        ha='center', va='top',\n",
    "        bbox={'facecolor': 'white', 'edgecolor': 'black',\n",
    "              'boxstyle': 'round,pad=0.5', 'alpha': 0.6})"
   ]
  },
  {
   "cell_type": "code",
   "execution_count": null,
   "metadata": {},
   "outputs": [],
   "source": [
    "ax.gridlines(linestyle=':', color='black', linewidth=2)"
   ]
  },
  {
   "cell_type": "code",
   "execution_count": null,
   "metadata": {},
   "outputs": [],
   "source": [
    "plt.savefig('sat_image.png')"
   ]
  }
 ],
 "metadata": {
  "jupytext": {
   "cell_metadata_filter": "-all",
   "main_language": "python",
   "notebook_metadata_filter": "-all"
  }
 },
 "nbformat": 4,
 "nbformat_minor": 2
}
