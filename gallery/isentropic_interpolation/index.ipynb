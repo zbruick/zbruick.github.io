{
 "cells": [
  {
   "cell_type": "code",
   "execution_count": null,
   "metadata": {},
   "outputs": [],
   "source": [
    "%matplotlib inline"
   ]
  },
  {
   "cell_type": "markdown",
   "metadata": {
    "cell_marker": "\"\"\""
   },
   "source": [
    "===================\n",
    "Isentropic Analysis\n",
    "===================\n",
    "\n",
    "The MetPy function `metpy.calc.isentropic_interpolation` allows for isentropic analysis from\n",
    "model analysis data in isobaric coordinates."
   ]
  },
  {
   "cell_type": "code",
   "execution_count": null,
   "metadata": {},
   "outputs": [],
   "source": [
    "from datetime import datetime, timedelta\n",
    "\n",
    "import cartopy.crs as ccrs\n",
    "import cartopy.feature as cfeature\n",
    "import matplotlib.pyplot as plt\n",
    "import metpy.calc\n",
    "from metpy.units import units\n",
    "from netCDF4 import num2date\n",
    "import numpy as np\n",
    "from siphon.catalog import TDSCatalog"
   ]
  },
  {
   "cell_type": "markdown",
   "metadata": {
    "cell_marker": "###########################"
   },
   "source": [
    "Getting the data\n",
    "\n",
    "In this example, the latest GFS forecasts data from the National Centers for\n",
    "Environmental Information (https://nomads.ncdc.noaa.gov) will be used, courtesy of the\n",
    "Univeristy Corporation for Atmospheric Research Thredds Data Server."
   ]
  },
  {
   "cell_type": "code",
   "execution_count": null,
   "metadata": {},
   "outputs": [],
   "source": [
    "# Latest GFS Dataset\n",
    "cat = TDSCatalog('http://thredds.ucar.edu/thredds/catalog/grib/'\n",
    "                 'NCEP/GFS/Global_0p5deg/catalog.xml')\n",
    "ncss = cat.latest.subset()\n",
    "\n",
    "# Find the start of the model run and define time range\n",
    "start_time = ncss.metadata.time_span['begin']\n",
    "start = datetime.strptime(start_time, '%Y-%m-%dT%H:%M:%Sz')\n",
    "end = start + timedelta(hours=9)\n",
    "\n",
    "# Query for Latest GFS Run\n",
    "gfsdata = ncss.query().time_range(start, end).accept('netcdf4')\n",
    "\n",
    "gfsdata.variables('Temperature_isobaric',\n",
    "                  'u-component_of_wind_isobaric',\n",
    "                  'v-component_of_wind_isobaric',\n",
    "                  'Relative_humidity_isobaric').add_lonlat()\n",
    "\n",
    "# Set the lat/lon box for the data you want to pull in.\n",
    "# lonlat_box(north_lat,south_lat,east_lon,west_lon)\n",
    "gfsdata.lonlat_box(-150, -50, 15, 65)\n",
    "\n",
    "# Actually getting the data\n",
    "data = ncss.get_data(gfsdata)\n",
    "\n",
    "dtime = data.variables['Temperature_isobaric'].dimensions[0]\n",
    "dlev_hght = data.variables['Temperature_isobaric'].dimensions[1]\n",
    "dlev_uwnd = data.variables['u-component_of_wind_isobaric'].dimensions[1]\n",
    "lat = data.variables['lat'][:]\n",
    "lon = data.variables['lon'][:]\n",
    "lev_hght = data.variables[dlev_hght][:] * units.Pa\n",
    "lev_uwnd = data.variables[dlev_uwnd][:] * units.Pa\n",
    "# Due to a different number of vertical levels find where they are common\n",
    "_, _, common_ind = np.intersect1d(lev_uwnd, lev_hght, return_indices=True)\n",
    "times = data.variables[dtime]\n",
    "vtimes = num2date(times[:], times.units)\n",
    "temps = data.variables['Temperature_isobaric']\n",
    "tmp = temps[:, common_ind, :, :] * units.kelvin\n",
    "uwnd = data.variables['u-component_of_wind_isobaric'][:] * units.meter / units.second\n",
    "vwnd = data.variables['v-component_of_wind_isobaric'][:] * units.meter / units.second\n",
    "relh = data.variables['Relative_humidity_isobaric'][:]"
   ]
  },
  {
   "cell_type": "markdown",
   "metadata": {
    "cell_marker": "########################"
   },
   "source": [
    "To properly interpolate to isentropic coordinates, the function must know the desired output\n",
    "isentropic levels. An array with these levels will be created below."
   ]
  },
  {
   "cell_type": "code",
   "execution_count": null,
   "metadata": {},
   "outputs": [],
   "source": [
    "isentlevs = np.arange(310, 316, 5) * units.kelvin"
   ]
  },
  {
   "cell_type": "markdown",
   "metadata": {
    "cell_marker": "########################"
   },
   "source": [
    "Conversion to Isentropic Coordinates\n",
    "\n",
    "Once model data in isobaric coordinates has been pulled and the desired isentropic levels\n",
    "created, the conversion to isentropic coordinates can begin. Data will be passed to the\n",
    "function as below. The function requires that isentropic levels, isobaric levels, and\n",
    "temperature be input. Any additional inputs (in this case relative humidity, u, and v wind\n",
    "components) will be linearly interpolated to isentropic space."
   ]
  },
  {
   "cell_type": "code",
   "execution_count": null,
   "metadata": {},
   "outputs": [],
   "source": [
    "isent_anal = metpy.calc.isentropic_interpolation(isentlevs, lev_uwnd, tmp,\n",
    "                                                 relh, uwnd, vwnd, axis=1)"
   ]
  },
  {
   "cell_type": "markdown",
   "metadata": {
    "cell_marker": "####################"
   },
   "source": [
    "The output is a list, so now we will separate the variables to different names before\n",
    "plotting."
   ]
  },
  {
   "cell_type": "code",
   "execution_count": null,
   "metadata": {},
   "outputs": [],
   "source": [
    "isentprs, isentrh, isentu, isentv = isent_anal"
   ]
  },
  {
   "cell_type": "markdown",
   "metadata": {
    "cell_marker": "##########################"
   },
   "source": [
    "A quick look at the shape of these variables will show that the data is now in isentropic\n",
    "coordinates, with the number of vertical levels as specified above."
   ]
  },
  {
   "cell_type": "code",
   "execution_count": null,
   "metadata": {},
   "outputs": [],
   "source": [
    "print(isentprs.shape)\n",
    "print(isentrh.shape)\n",
    "print(isentu.shape)\n",
    "print(isentv.shape)"
   ]
  },
  {
   "cell_type": "markdown",
   "metadata": {
    "cell_marker": "####################"
   },
   "source": [
    "**Plotting the Isentropic Analysis**"
   ]
  },
  {
   "cell_type": "markdown",
   "metadata": {
    "cell_marker": "#####################",
    "lines_to_next_cell": 0
   },
   "source": [
    "Set up our projection"
   ]
  },
  {
   "cell_type": "code",
   "execution_count": null,
   "metadata": {},
   "outputs": [],
   "source": [
    "crs = ccrs.LambertConformal(central_longitude=-100.0, central_latitude=45.0)\n",
    "\n",
    "# Set up our array of latitude and longitude values and transform to\n",
    "# the desired projection.\n",
    "clons, clats = np.meshgrid(lon, lat)\n",
    "\n",
    "# Get data to plot state and province boundaries\n",
    "states_provinces = cfeature.NaturalEarthFeature(\n",
    "    category='cultural',\n",
    "    name='admin_1_states_provinces_lakes',\n",
    "    scale='50m',\n",
    "    facecolor='none')\n",
    "level = 0\n",
    "FH = 0\n",
    "fig = plt.figure(1, figsize=(14., 12.))\n",
    "ax = plt.subplot(111, projection=crs)\n",
    "\n",
    "# Set plot extent\n",
    "ax.set_extent((-121., -74., 25., 50.), crs=ccrs.PlateCarree())\n",
    "ax.coastlines('50m', edgecolor='black', linewidth=0.75)\n",
    "ax.add_feature(states_provinces, edgecolor='black', linewidth=0.5)\n",
    "\n",
    "# Plot the 300K surface\n",
    "clevisent = np.arange(0, 1000, 25)\n",
    "cs = ax.contour(clons, clats, isentprs[FH, level, :, :], clevisent,\n",
    "                transform=ccrs.PlateCarree(),\n",
    "                colors='k', linewidths=1.0, linestyles='solid')\n",
    "plt.clabel(cs, fontsize=10, inline=1, inline_spacing=7,\n",
    "           fmt='%i', rightside_up=True, use_clabeltext=True)\n",
    "\n",
    "cf = ax.contourf(clons, clats, isentrh[FH, level, :, :], range(10, 106, 5),\n",
    "                 transform=ccrs.PlateCarree(),\n",
    "                 cmap=plt.cm.gist_earth_r)\n",
    "plt.colorbar(cf, orientation='horizontal', extend=max, aspect=65, pad=0,\n",
    "             extendrect='True')\n",
    "\n",
    "wind_slice = [FH, level, slice(None, None, 5), slice(None, None, 5)]\n",
    "ax.barbs(clons[wind_slice[2:]], clats[wind_slice[2:]],\n",
    "         isentu[wind_slice].m, isentv[wind_slice].m, length=6,\n",
    "         transform=ccrs.PlateCarree())\n",
    "\n",
    "# Make some titles\n",
    "plt.title('{:.0f} K Isentropic Level'.format(isentlevs[level].m), loc='left')\n",
    "plt.title('VALID: {:s} UTC'.format(str(vtimes[FH])), loc='right')\n",
    "\n",
    "plt.show()"
   ]
  }
 ],
 "metadata": {
  "jupytext": {
   "cell_metadata_filter": "-all",
   "main_language": "python",
   "notebook_metadata_filter": "-all"
  }
 },
 "nbformat": 4,
 "nbformat_minor": 2
}
