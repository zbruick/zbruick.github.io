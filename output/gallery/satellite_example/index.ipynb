{
 "cells": [
  {
   "cell_type": "code",
   "execution_count": null,
   "metadata": {},
   "outputs": [],
   "source": [
    "%matplotlib inline"
   ]
  },
  {
   "cell_type": "markdown",
   "metadata": {
    "cell_marker": "\"\"\"",
    "lines_to_next_cell": 0
   },
   "source": [
    "============================\n",
    "WV Satellite Overlay Example\n",
    "============================\n",
    "\n",
    "Plot a Gini Satellite file and overlay GFS-based data.\n",
    "\n",
    "Using the Gini read capability of MetPy with Siphon to bring in the best GFS\n",
    "data according to the current time, plot an overlay of WV imagery with 300-hPa\n",
    "Geopotential Heights and Wind Barbs."
   ]
  },
  {
   "cell_type": "markdown",
   "metadata": {
    "cell_marker": "##############################################"
   },
   "source": [
    "Begin with imports, need a lot for this task."
   ]
  },
  {
   "cell_type": "code",
   "execution_count": null,
   "metadata": {},
   "outputs": [],
   "source": [
    "# A whole bunch of imports\n",
    "import cartopy.crs as ccrs\n",
    "import cartopy.feature as cfeature\n",
    "from matplotlib import patheffects\n",
    "import matplotlib.pyplot as plt\n",
    "from metpy.io import GiniFile\n",
    "from metpy.plots.ctables import registry\n",
    "from metpy.units import units\n",
    "from netCDF4 import num2date\n",
    "import scipy.ndimage as ndimage\n",
    "from siphon.catalog import TDSCatalog\n",
    "import xarray as xr\n"
   ]
  },
  {
   "cell_type": "markdown",
   "metadata": {
    "cell_marker": "##############################################"
   },
   "source": [
    "Get satellite data and set projection based on that data."
   ]
  },
  {
   "cell_type": "code",
   "execution_count": null,
   "metadata": {},
   "outputs": [],
   "source": [
    "# Scan the catalog and download the data\n",
    "satcat = TDSCatalog('http://thredds.ucar.edu/thredds/catalog/satellite/'\n",
    "                    'WV/WEST-CONUS_4km/current/catalog.xml')\n",
    "dataset = satcat.datasets[0]\n",
    "f = GiniFile(dataset.remote_open())\n",
    "gini_ds = xr.open_dataset(f)\n",
    "\n",
    "# Pull parts out of the data file\n",
    "dat = gini_ds.metpy.parse_cf('WV')\n",
    "data_var = gini_ds.variables['WV']\n",
    "x = gini_ds.variables['x'][:]\n",
    "y = gini_ds.variables['y'][:]\n",
    "timestamp = f.prod_desc.datetime"
   ]
  },
  {
   "cell_type": "markdown",
   "metadata": {
    "cell_marker": "##############################################"
   },
   "source": [
    "Use Siphon to obtain data that is close to the time of the satellite file"
   ]
  },
  {
   "cell_type": "code",
   "execution_count": null,
   "metadata": {},
   "outputs": [],
   "source": [
    "gfscat = TDSCatalog('http://thredds.ucar.edu/thredds/catalog/grib/'\n",
    "                    'NCEP/GFS/Global_0p5deg/catalog.xml')\n",
    "dataset = gfscat.datasets['Best GFS Half Degree Forecast Time Series']\n",
    "ncss = dataset.subset()\n",
    "\n",
    "query = ncss.query()\n",
    "query.variables('Geopotential_height_isobaric',\n",
    "                'u-component_of_wind_isobaric',\n",
    "                'v-component_of_wind_isobaric')\n",
    "query.add_lonlat().vertical_level(300 * 100)\n",
    "query.time(timestamp)  # Use the time from the GINI file\n",
    "query.lonlat_box(north=65, south=15, east=310, west=220)\n",
    "data = ncss.get_data(query)"
   ]
  },
  {
   "cell_type": "markdown",
   "metadata": {
    "cell_marker": "##############################################"
   },
   "source": [
    "Pull out specific variables and attach units."
   ]
  },
  {
   "cell_type": "code",
   "execution_count": null,
   "metadata": {},
   "outputs": [],
   "source": [
    "hght_300 = data.variables['Geopotential_height_isobaric'][:].squeeze() * units.meter\n",
    "uwnd_300 = units('m/s') * data.variables['u-component_of_wind_isobaric'][:].squeeze()\n",
    "vwnd_300 = units('m/s') * data.variables['v-component_of_wind_isobaric'][:].squeeze()\n",
    "\n",
    "Z_300 = ndimage.gaussian_filter(hght_300, sigma=4, order=0)\n",
    "\n",
    "lon = data.variables['lon'][:]\n",
    "lat = data.variables['lat'][:]\n",
    "time = data.variables[data.variables['Geopotential_height_isobaric'].dimensions[0]]\n",
    "vtime = num2date(time[:], time.units)"
   ]
  },
  {
   "cell_type": "markdown",
   "metadata": {
    "cell_marker": "##############################################"
   },
   "source": [
    "Create figure with an overlay of WV Imagery with 300-hPa Heights and Wind"
   ]
  },
  {
   "cell_type": "code",
   "execution_count": null,
   "metadata": {},
   "outputs": [],
   "source": [
    "# Create the figure\n",
    "fig = plt.figure(figsize=(10, 10))\n",
    "ax = fig.add_subplot(1, 1, 1, projection=dat.metpy.cartopy_crs)\n",
    "\n",
    "# Add mapping information\n",
    "ax.coastlines(resolution='50m', color='black')\n",
    "ax.add_feature(cfeature.STATES, linestyle=':')\n",
    "ax.add_feature(cfeature.BORDERS, linewidth=2)\n",
    "\n",
    "# Plot the image with our colormapping choices\n",
    "wv_norm, wv_cmap = registry.get_with_range('WVCIMSS', 100, 260)\n",
    "im = ax.imshow(data_var[:], extent=(x[0], x[-1], y[0], y[-1]), origin='upper',\n",
    "               cmap=wv_cmap, norm=wv_norm)\n",
    "\n",
    "# Add the text, complete with outline\n",
    "text = ax.text(0.99, 0.01, timestamp.strftime('%d %B %Y %H%MZ'),\n",
    "               horizontalalignment='right', transform=ax.transAxes,\n",
    "               color='white', fontsize='x-large', weight='bold')\n",
    "text.set_path_effects([patheffects.withStroke(linewidth=2, foreground='black')])\n",
    "\n",
    "# PLOT 300-hPa Geopotential Heights and Wind Barbs\n",
    "ax.set_extent([-132, -95, 25, 47], ccrs.Geodetic())\n",
    "cs = ax.contour(lon, lat, Z_300, colors='black', transform=ccrs.PlateCarree())\n",
    "ax.clabel(cs, fontsize=12, colors='k', inline=1, inline_spacing=8,\n",
    "          fmt='%i', rightside_up=True, use_clabeltext=True)\n",
    "\n",
    "ax.barbs(lon, lat, uwnd_300.to('knots').m, vwnd_300.to('knots').m, color='tab:red',\n",
    "         length=7, regrid_shape=15, pivot='middle', transform=ccrs.PlateCarree())\n",
    "\n",
    "ax.set_title('300-hPa Geo Heights (m; black) and Wind Barbs (kt)', loc='left')\n",
    "ax.set_title('Valid: {}'.format(vtime[0]), loc='right')\n",
    "\n",
    "plt.show()"
   ]
  }
 ],
 "metadata": {
  "jupytext": {
   "cell_metadata_filter": "-all",
   "main_language": "python",
   "notebook_metadata_filter": "-all"
  }
 },
 "nbformat": 4,
 "nbformat_minor": 2
}
