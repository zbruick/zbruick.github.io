{
 "cells": [
  {
   "cell_type": "code",
   "execution_count": null,
   "metadata": {},
   "outputs": [],
   "source": [
    "%matplotlib inline"
   ]
  },
  {
   "cell_type": "markdown",
   "metadata": {
    "cell_marker": "\"\"\"",
    "lines_to_next_cell": 0
   },
   "source": [
    "=====================\n",
    "NWS Precipitation Map\n",
    "=====================\n",
    "\n",
    "Plot a 1-day precipitation map using a netCDF file from the National Weather Service.\n",
    "\n",
    "This opens the data directly in memory using the support in the netCDF library to open\n",
    "from an existing memory buffer. In addition to CartoPy and Matplotlib, this uses\n",
    "a custom colortable as well as MetPy's unit support."
   ]
  },
  {
   "cell_type": "markdown",
   "metadata": {
    "cell_marker": "###############################",
    "lines_to_next_cell": 0
   },
   "source": [
    "Imports"
   ]
  },
  {
   "cell_type": "code",
   "execution_count": null,
   "metadata": {},
   "outputs": [],
   "source": [
    "from datetime import datetime, timedelta\n",
    "from urllib.request import urlopen\n",
    "\n",
    "import cartopy.crs as ccrs\n",
    "import cartopy.feature as cfeature\n",
    "import matplotlib.colors as mcolors\n",
    "import matplotlib.pyplot as plt\n",
    "from metpy.units import masked_array, units\n",
    "from netCDF4 import Dataset"
   ]
  },
  {
   "cell_type": "markdown",
   "metadata": {
    "cell_marker": "###############################",
    "lines_to_next_cell": 0
   },
   "source": [
    "Download the data from the National Weather Service."
   ]
  },
  {
   "cell_type": "code",
   "execution_count": null,
   "metadata": {},
   "outputs": [],
   "source": [
    "dt = datetime.utcnow() - timedelta(days=1)  # This should always be available\n",
    "url = 'http://water.weather.gov/precip/downloads/{dt:%Y/%m/%d}/nws_precip_1day_'\\\n",
    "      '{dt:%Y%m%d}_conus.nc'.format(dt=dt)\n",
    "data = urlopen(url).read()\n",
    "nc = Dataset('', memory=data)"
   ]
  },
  {
   "cell_type": "markdown",
   "metadata": {
    "cell_marker": "###############################",
    "lines_to_next_cell": 0
   },
   "source": [
    "Pull the needed information out of the netCDF file"
   ]
  },
  {
   "cell_type": "code",
   "execution_count": null,
   "metadata": {},
   "outputs": [],
   "source": [
    "prcpvar = nc.variables['observation']\n",
    "data = masked_array(prcpvar[:], units(prcpvar.units.lower())).to('mm')\n",
    "x = nc.variables['x'][:]\n",
    "y = nc.variables['y'][:]\n",
    "proj_var = nc.variables[prcpvar.grid_mapping]"
   ]
  },
  {
   "cell_type": "markdown",
   "metadata": {
    "cell_marker": "###############################",
    "lines_to_next_cell": 0
   },
   "source": [
    "Set up the projection information within CartoPy"
   ]
  },
  {
   "cell_type": "code",
   "execution_count": null,
   "metadata": {},
   "outputs": [],
   "source": [
    "globe = ccrs.Globe(semimajor_axis=proj_var.earth_radius)\n",
    "proj = ccrs.Stereographic(central_latitude=90.0,\n",
    "                          central_longitude=proj_var.straight_vertical_longitude_from_pole,\n",
    "                          true_scale_latitude=proj_var.standard_parallel, globe=globe)"
   ]
  },
  {
   "cell_type": "markdown",
   "metadata": {
    "cell_marker": "###############################",
    "lines_to_next_cell": 0
   },
   "source": [
    "Create the figure and plot the data\n",
    "create figure and axes instances"
   ]
  },
  {
   "cell_type": "code",
   "execution_count": null,
   "metadata": {},
   "outputs": [],
   "source": [
    "fig = plt.figure(figsize=(8, 8))\n",
    "ax = fig.add_subplot(1, 1, 1, projection=proj)\n",
    "\n",
    "# draw coastlines, state and country boundaries, edge of map.\n",
    "ax.coastlines()\n",
    "ax.add_feature(cfeature.BORDERS)\n",
    "ax.add_feature(cfeature.STATES)\n",
    "\n",
    "# draw filled contours.\n",
    "clevs = [0, 1, 2.5, 5, 7.5, 10, 15, 20, 30, 40,\n",
    "         50, 70, 100, 150, 200, 250, 300, 400, 500, 600, 750]\n",
    "# In future MetPy\n",
    "# norm, cmap = ctables.registry.get_with_boundaries('precipitation', clevs)\n",
    "cmap_data = [(1.0, 1.0, 1.0),\n",
    "             (0.3137255012989044, 0.8156862854957581, 0.8156862854957581),\n",
    "             (0.0, 1.0, 1.0),\n",
    "             (0.0, 0.8784313797950745, 0.501960813999176),\n",
    "             (0.0, 0.7529411911964417, 0.0),\n",
    "             (0.501960813999176, 0.8784313797950745, 0.0),\n",
    "             (1.0, 1.0, 0.0),\n",
    "             (1.0, 0.6274510025978088, 0.0),\n",
    "             (1.0, 0.0, 0.0),\n",
    "             (1.0, 0.125490203499794, 0.501960813999176),\n",
    "             (0.9411764740943909, 0.250980406999588, 1.0),\n",
    "             (0.501960813999176, 0.125490203499794, 1.0),\n",
    "             (0.250980406999588, 0.250980406999588, 1.0),\n",
    "             (0.125490203499794, 0.125490203499794, 0.501960813999176),\n",
    "             (0.125490203499794, 0.125490203499794, 0.125490203499794),\n",
    "             (0.501960813999176, 0.501960813999176, 0.501960813999176),\n",
    "             (0.8784313797950745, 0.8784313797950745, 0.8784313797950745),\n",
    "             (0.9333333373069763, 0.8313725590705872, 0.7372549176216125),\n",
    "             (0.8549019694328308, 0.6509804129600525, 0.47058823704719543),\n",
    "             (0.6274510025978088, 0.42352941632270813, 0.23529411852359772),\n",
    "             (0.4000000059604645, 0.20000000298023224, 0.0)]\n",
    "cmap = mcolors.ListedColormap(cmap_data, 'precipitation')\n",
    "norm = mcolors.BoundaryNorm(clevs, cmap.N)\n",
    "\n",
    "cs = ax.contourf(x, y, data, clevs, cmap=cmap, norm=norm)\n",
    "\n",
    "# add colorbar.\n",
    "cbar = plt.colorbar(cs, orientation='horizontal')\n",
    "cbar.set_label(data.units)\n",
    "\n",
    "ax.set_title(prcpvar.long_name + ' for period ending ' + nc.creation_time)\n",
    "plt.show()"
   ]
  }
 ],
 "metadata": {
  "jupytext": {
   "cell_metadata_filter": "-all",
   "main_language": "python",
   "notebook_metadata_filter": "-all"
  }
 },
 "nbformat": 4,
 "nbformat_minor": 2
}
