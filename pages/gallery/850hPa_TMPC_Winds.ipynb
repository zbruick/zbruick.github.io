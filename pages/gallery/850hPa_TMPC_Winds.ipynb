{
 "cells": [
  {
   "cell_type": "code",
   "execution_count": null,
   "metadata": {},
   "outputs": [],
   "source": [
    "%matplotlib inline"
   ]
  },
  {
   "cell_type": "markdown",
   "metadata": {
    "cell_marker": "\"\"\""
   },
   "source": [
    "850-hPa Geopotential Heights, Temperature, and Winds\n",
    "====================================================\n",
    "\n",
    "Classic 850-hPa with Geopotential Heights, Temperature, and Winds\n",
    "\n",
    "This example uses example data from the GFS analysis for 12 UTC 26\n",
    "October 2010 and uses xarray as the main read source with using MetPy to\n",
    "calculate frontogenesis and wind speed with geographic plotting using\n",
    "Cartopy for a CONUS view.\n"
   ]
  },
  {
   "cell_type": "code",
   "execution_count": null,
   "metadata": {},
   "outputs": [],
   "source": [
    "import cartopy.crs as ccrs\n",
    "import cartopy.feature as cfeature\n",
    "import matplotlib.pyplot as plt\n",
    "from metpy.units import units\n",
    "import numpy as np\n",
    "import xarray as xr\n"
   ]
  },
  {
   "cell_type": "markdown",
   "metadata": {
    "cell_marker": "######################################################################"
   },
   "source": [
    "Use Xarray to read netCDF data from a remote server and use MetPy’s\n",
    "parse_cf() capability to make it easy to get arrays with attached units.\n"
   ]
  },
  {
   "cell_type": "code",
   "execution_count": null,
   "metadata": {},
   "outputs": [],
   "source": [
    "ds = xr.open_dataset('https://thredds.ucar.edu/thredds/dodsC/casestudies/'\n",
    "                     'python-gallery/GFS_20101026_1200.nc').metpy.parse_cf()\n"
   ]
  },
  {
   "cell_type": "markdown",
   "metadata": {
    "cell_marker": "######################################################################"
   },
   "source": [
    "Subset Data\n",
    "-----------\n",
    "\n",
    "Bring in individual variables and subset for domain that is being\n",
    "analyzed (roughly CONUS). There are a couple of MetPy helpers being used\n",
    "here to get arrays with units (``.metpy.unit_array``) and selecting on a\n",
    "generic “vertical” domain.\n"
   ]
  },
  {
   "cell_type": "code",
   "execution_count": null,
   "metadata": {},
   "outputs": [],
   "source": [
    "# Set subset slice for the geographic extent of data to limit download\n",
    "lon_slice = slice(200, 350)\n",
    "lat_slice = slice(85, 10)\n",
    "\n",
    "# Grab lat/lon values (GFS will be 1D)\n",
    "lats = ds.lat.sel(lat=lat_slice).values\n",
    "lons = ds.lon.sel(lon=lon_slice).values\n",
    "\n",
    "# Set level to plot/analyze\n",
    "level = 850 * units.hPa\n",
    "\n",
    "# Grad individual data arrays with units from our file, selecting for level and lat/lon slice\n",
    "hght_850 = ds.Geopotential_height_isobaric.metpy.sel(\n",
    "    vertical=level, lat=lat_slice, lon=lon_slice).squeeze().metpy.unit_array\n",
    "tmpk_850 = ds.Temperature_isobaric.metpy.sel(\n",
    "    vertical=level, lat=lat_slice, lon=lon_slice).squeeze().metpy.unit_array\n",
    "uwnd_850 = ds['u-component_of_wind_isobaric'].metpy.sel(\n",
    "    vertical=level, lat=lat_slice, lon=lon_slice).squeeze().metpy.unit_array\n",
    "vwnd_850 = ds['v-component_of_wind_isobaric'].metpy.sel(\n",
    "    vertical=level, lat=lat_slice, lon=lon_slice).squeeze().metpy.unit_array\n",
    "\n",
    "# Convert temperatures to degree Celsius for plotting purposes\n",
    "tmpc_850 = tmpk_850.to('degC')\n",
    "\n",
    "# Get a sensible datetime format\n",
    "vtime = ds.time.data[0].astype('datetime64[ms]').astype('O')\n"
   ]
  },
  {
   "cell_type": "markdown",
   "metadata": {
    "cell_marker": "######################################################################"
   },
   "source": [
    "Figure Creation\n",
    "---------------\n",
    "\n",
    "Here we use Cartopy to plot a CONUS map using a Lambert Conformal\n",
    "projection - note: the data is in a lat/lon projection, so the\n",
    "PlateCarree projection is used as the data projection.\n"
   ]
  },
  {
   "cell_type": "code",
   "execution_count": null,
   "metadata": {},
   "outputs": [],
   "source": [
    "# Set output projection\n",
    "mapcrs = ccrs.LambertConformal(\n",
    "    central_longitude=-100, central_latitude=35, standard_parallels=(30, 60))\n",
    "\n",
    "# Set projection of data (so we can transform for the figure)\n",
    "datacrs = ccrs.PlateCarree()\n",
    "\n",
    "# Start figure and set extent to be over CONUS\n",
    "fig = plt.figure(1, figsize=(14, 12))\n",
    "ax = plt.subplot(111, projection=mapcrs)\n",
    "ax.set_extent([-130, -72, 20, 55], ccrs.PlateCarree())\n",
    "\n",
    "# Add coastline and state map features\n",
    "ax.add_feature(cfeature.COASTLINE.with_scale('50m'))\n",
    "ax.add_feature(cfeature.STATES.with_scale('50m'))\n",
    "\n",
    "# Plot colorfill and dashed contours of 850-hPa temperatures in Celsius\n",
    "clevs_850_tmpc = np.arange(-40, 41, 2)\n",
    "cf = ax.contourf(lons, lats, tmpc_850, clevs_850_tmpc, cmap=plt.cm.coolwarm, transform=datacrs)\n",
    "cb = plt.colorbar(cf, orientation='horizontal', pad=0, aspect=50)\n",
    "cb.set_label('Temperature (C)')\n",
    "csf = ax.contour(lons, lats, tmpc_850, clevs_850_tmpc, colors='grey',\n",
    "                 linestyles='dashed', transform=datacrs)\n",
    "plt.clabel(csf, fmt='%d')\n",
    "\n",
    "# Plot contours of 850-hPa geopotential heights in meters\n",
    "clevs_850_hght = np.arange(0, 8000, 30)\n",
    "cs = ax.contour(lons, lats, hght_850, clevs_850_hght, colors='black', transform=datacrs)\n",
    "plt.clabel(cs, fmt='%d')\n",
    "\n",
    "# Plot wind barbs every fifth element\n",
    "wind_slice = (slice(None, None, 5), slice(None, None, 5))\n",
    "ax.barbs(lons[wind_slice[0]], lats[wind_slice[1]],\n",
    "         uwnd_850[wind_slice[0], wind_slice[1]].to('kt').m,\n",
    "         vwnd_850[wind_slice[0], wind_slice[1]].to('kt').m,\n",
    "         pivot='middle', color='black', transform=datacrs)\n",
    "\n",
    "# Add some titles\n",
    "plt.title('850-hPa GFS Geopotential Heights (m), Temperature (C), '\n",
    "          'and Wind Barbs (kt)', loc='left')\n",
    "plt.title('Valid Time: {}'.format(vtime), loc='right')\n",
    "\n",
    "plt.show()"
   ]
  }
 ],
 "metadata": {
  "jupytext": {
   "cell_metadata_filter": "-all",
   "main_language": "python",
   "notebook_metadata_filter": "-all"
  }
 },
 "nbformat": 4,
 "nbformat_minor": 2
}
